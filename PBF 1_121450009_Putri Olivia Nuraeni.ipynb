{
 "cells": [
  {
   "cell_type": "markdown",
   "id": "005b77eb",
   "metadata": {},
   "source": [
    "### TUGAS 1 PBF"
   ]
  },
  {
   "cell_type": "markdown",
   "id": "42add89c",
   "metadata": {},
   "source": [
    "### 1. Jelaskan menggunakan tabel mengenai kelebihan dan kekurangan paradigma procedural dibandingkan dengan object oriented (minimal 3) !"
   ]
  },
  {
   "cell_type": "markdown",
   "id": "ab3496bf",
   "metadata": {},
   "source": [
    "#### Kelebihan paradigma procedural\n",
    "\n",
    "|Paradigma Procedural| |Paradigma Object Oriented|\n",
    "|--------------------| |-------------------------|\n",
    "|Mudah dan cocok untuk pemula| |kurang cocok untuk pemula karena cukup sulit|\n",
    "|Penggunaan memori lebih hemat| |Membutuhkan memori yang besar|\n",
    "|Cocok untu pemrograman sederhana| |Kurang cocok untuk pemrograman sederhana|\n",
    "\n",
    "#### Kekurangan paradigma procedural\n",
    "|Paradigma Procedural| |Paradigma Object Oriented|\n",
    "|--------------------| |-------------------------|\n",
    "|Kurang aman| |Lebih aman|\n",
    "|Tidak dapat menambahkan data dengan program sederhana| |Dapat dengan mudah memodifikasi data|\n",
    "|Kurang cocok dalam representasi dunia nyata| |Lebih cocok untuk merepresentasi dunia nyata |"
   ]
  },
  {
   "cell_type": "markdown",
   "id": "e3eba0b4",
   "metadata": {},
   "source": [
    "### 2. Jelaskan menggunakan tabel mengenai kelebihan dan kekurangan paradigma object oriented dibandingkan dengan functional (minimal 3) !\n"
   ]
  },
  {
   "cell_type": "markdown",
   "id": "0dc04fef",
   "metadata": {},
   "source": [
    "#### Kelebihan Object Oriented\n",
    "|Paradigma Object Oriented| |Paradigma Functional|\n",
    "|-------------------------| |--------------------|\n",
    "|Data bersifat mutable|  |Data bersifat imutable|\n",
    "|Lebih mudah dipelajari dibandingkan functional| |Lebih rumit untuk dipelajari|\n",
    "|Keamanannya terjamin| |Kurang begitu aman|\n",
    "\n",
    "#### Kekurangan Object Oriented\n",
    "|Paradigma Object Oriented| |Paradigma Functional|\n",
    "|-------------------------| |--------------------|\n",
    "|Cenderung lebih lambat saat melakukan run| |Lebih cepat dari OOP|\n",
    "|Kode yang digunakan cenderung lebih banyak| |Kode yg digunakan lebih sedikit dari OOP|\n",
    "|Tidak parallel programming| |Support parallel programming |"
   ]
  },
  {
   "cell_type": "markdown",
   "id": "ead2b927",
   "metadata": {},
   "source": [
    "### 3. Jelaskan menggunakan tabel mengenai kelebihan dan kekurangan paradigma procedural dibandingkan dengan functional (minimal 3) !\n"
   ]
  },
  {
   "cell_type": "markdown",
   "id": "a28e5152",
   "metadata": {},
   "source": [
    "#### Kelebihan Paradigma Procedural\n",
    "|Paradigma Procedural| |Paradigma Functional|\n",
    "|--------------------| |--------------------|\n",
    "|Penggunaan memori lebih sedikit| |Penggunaan memori lebih banyak|\n",
    "|Lebih mudah dipelajari dan cocok untuk pemula| |Lebih rumit dipelajari dan kurang cocok untuk pemula|\n",
    "|Kode pemrograman lebih sederhana| |Kode pemrograman lebih kompleks |\n",
    "\n",
    "#### Kekurangan Paradigma Procedural\n",
    "|Paradigma Procedural| |Paradigma Functional|\n",
    "|--------------------| |--------------------|\n",
    "|Fungsi-fungsinya tidak reusable| |Fungsinya reusable|\n",
    "|Kodenya lebih banyak karena jarang menggunakan fungsi| |Kode lebih sedikit karena menggunakan fungsi|\n",
    "|Tidak dapat melakukan runtime secara berulang| |Dapat melakukan runtime secara berulang |"
   ]
  },
  {
   "cell_type": "markdown",
   "id": "35064a08",
   "metadata": {},
   "source": [
    "### 4. Apa yang dimaksud dengan pure functional programming language?"
   ]
  },
  {
   "cell_type": "markdown",
   "id": "67e77ce1",
   "metadata": {},
   "source": [
    "Pure functional programming adalah bahasa pemrograman yang datanya tidak dapat diubah dan fungsi dapat diperlakukan sebagai data"
   ]
  },
  {
   "cell_type": "markdown",
   "id": "b4573e14",
   "metadata": {},
   "source": [
    "### 5.  Dari bahasa pemrograman FP di slide sebelumnya ( slide 14 ) , manakah yang termasuk pure functional programming language?"
   ]
  },
  {
   "cell_type": "markdown",
   "id": "a6c74ae8",
   "metadata": {},
   "source": [
    "Yang termasuk bahasa pemrograman fungsional murni yaitu Haskell"
   ]
  },
  {
   "cell_type": "markdown",
   "id": "e7305f64",
   "metadata": {},
   "source": [
    "### Nomor 6 "
   ]
  },
  {
   "cell_type": "markdown",
   "id": "d30457cd",
   "metadata": {},
   "source": [
    "#### Soal 1 nomor 6"
   ]
  },
  {
   "cell_type": "code",
   "execution_count": 1,
   "id": "fe62a4ef",
   "metadata": {},
   "outputs": [],
   "source": [
    "def enkripsi(password):\n",
    "    if len(password) == 0 or len(password) > 100:\n",
    "        print('Masukkan password rentang 1-100 karakter')\n",
    "    else:\n",
    "        ascii = [str(ord(i)) for i in password]\n",
    "        value_enkripsi = ''.join(chr((int(j)//26)+80)+chr((int(j)%26)+80)+('+' if (int(j)//26)+80 > (int(j)%26)+80 else '-') for j in ascii)\n",
    "        print('Password : ', value_enkripsi)\n",
    "        \n",
    "def dekripsi(password):\n",
    "    splitpassword = [(password[k:k+3]) for k in range(0, len(password), 3)]\n",
    "    dekripsi = ''.join(chr(((ord(list(z)[0])-80)*26)+(ord(list(z)[1])-80)) for z in splitpassword)\n",
    "    print('Password : ', dekripsi)\n",
    "       "
   ]
  },
  {
   "cell_type": "markdown",
   "id": "4efbbbbf",
   "metadata": {},
   "source": [
    "#### soal 2 nomor 6\n",
    "Apa output yang dihasilkan dari program tersebut jika input password adalah ‘anakanakcerdas2020’ ?"
   ]
  },
  {
   "cell_type": "code",
   "execution_count": 2,
   "id": "8447bcd4",
   "metadata": {},
   "outputs": [
    {
     "name": "stdout",
     "output_type": "stream",
     "text": [
      "Masukkan Password: anakcerdas2020\n",
      "Password :  Sc-TV-Sc-TS+Se-Sg-TZ-Sf-Sc-T[-Qh-Qf-Qh-Qf-\n"
     ]
    }
   ],
   "source": [
    "password = input('Masukkan Password : ')\n",
    "enkripsi(password)"
   ]
  },
  {
   "cell_type": "markdown",
   "id": "7d2dbaee",
   "metadata": {},
   "source": [
    "#### soal 3 nomor 6\n",
    "(User tersebut lupa password asli yang dia inputkan ke dalam program\n",
    "tersebut, password setelah dienkripsi adalah\n",
    "‘Sc-TV-Sc-TS+T[-Sc-TQ+TV-T[-Sf-Sc-T\\-Sc-Qh-Qf-Qh-Qf-TS+Sg-Se-Sg-’. \n",
    "Bantulah user tersebut mendapatkan password asli nya!"
   ]
  },
  {
   "cell_type": "code",
   "execution_count": 5,
   "id": "2f011972",
   "metadata": {},
   "outputs": [
    {
     "name": "stdout",
     "output_type": "stream",
     "text": [
      "Masukkan Password : Sc-TV-Sc-TS+T[-Sc-TQ+TV-T[-Sf-Sc-T\\-Sc-Qh-Qf-Qh-Qf-TS+Sg-Se-Sg-\n",
      "Password :  anaksainsdata2020kece\n"
     ]
    }
   ],
   "source": [
    "password = input('Masukkan Password : ')\n",
    "dekripsi(password)"
   ]
  }
 ],
 "metadata": {
  "kernelspec": {
   "display_name": "Python 3 (ipykernel)",
   "language": "python",
   "name": "python3"
  },
  "language_info": {
   "codemirror_mode": {
    "name": "ipython",
    "version": 3
   },
   "file_extension": ".py",
   "mimetype": "text/x-python",
   "name": "python",
   "nbconvert_exporter": "python",
   "pygments_lexer": "ipython3",
   "version": "3.10.7"
  }
 },
 "nbformat": 4,
 "nbformat_minor": 5
}
